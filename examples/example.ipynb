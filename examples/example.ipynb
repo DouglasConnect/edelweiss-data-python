{
 "cells": [
  {
   "cell_type": "markdown",
   "metadata": {},
   "source": [
    "# EdelweissData Python client API demonstration"
   ]
  },
  {
   "cell_type": "markdown",
   "metadata": {},
   "source": [
    "## Setup"
   ]
  },
  {
   "cell_type": "code",
   "execution_count": null,
   "metadata": {},
   "outputs": [],
   "source": [
    "from edelweiss_data import API, QueryExpression as Q\n",
    "import pandas\n",
    "import requests"
   ]
  },
  {
   "cell_type": "code",
   "execution_count": 2,
   "metadata": {},
   "outputs": [],
   "source": [
    "from IPython.core.display import HTML\n",
    "\n",
    "edelweiss_ui_url = 'https://ui.develop.edelweiss.douglasconnect.com'\n",
    "\n",
    "def display_link_to_published_dataset(id, version):\n",
    "    dataset_url = '{}/dataexplorer?dataset={}:{}'.format(edelweiss_ui_url, id, version)\n",
    "    return HTML('<a href=\"{}\">View the dataset {} in the browser</a>'.format(dataset_url, id))"
   ]
  },
  {
   "cell_type": "markdown",
   "metadata": {},
   "source": [
    "#### Set up connection"
   ]
  },
  {
   "cell_type": "code",
   "execution_count": 3,
   "metadata": {},
   "outputs": [],
   "source": [
    "#edelweiss_api_url = 'https://api.develop.edelweiss.douglasconnect.com'\n",
    "edelweiss_api_url = 'http://localhost:8000'"
   ]
  },
  {
   "cell_type": "code",
   "execution_count": 4,
   "metadata": {},
   "outputs": [],
   "source": [
    "api = API(edelweiss_api_url)"
   ]
  },
  {
   "cell_type": "markdown",
   "metadata": {},
   "source": [
    "#### Authenticate yourself to edelweiss.\n",
    "\n",
    "The default authentication uses Auth0Jwt. You will be asked to visit a url in a web browser to confirm who you are. You can skip this step if you want to view only publicly visible datasets.\n",
    "\n",
    "You can also use development mode, which skips the proper authentication."
   ]
  },
  {
   "cell_type": "code",
   "execution_count": 5,
   "metadata": {},
   "outputs": [],
   "source": [
    "#api.authenticate()\n",
    "api.authenticate(development=True)"
   ]
  },
  {
   "cell_type": "markdown",
   "metadata": {},
   "source": [
    "### Get a dataframe of all published datasets"
   ]
  },
  {
   "cell_type": "code",
   "execution_count": 6,
   "metadata": {},
   "outputs": [
    {
     "data": {
      "text/html": [
       "<div>\n",
       "<style scoped>\n",
       "    .dataframe tbody tr th:only-of-type {\n",
       "        vertical-align: middle;\n",
       "    }\n",
       "\n",
       "    .dataframe tbody tr th {\n",
       "        vertical-align: top;\n",
       "    }\n",
       "\n",
       "    .dataframe thead th {\n",
       "        text-align: right;\n",
       "    }\n",
       "</style>\n",
       "<table border=\"1\" class=\"dataframe\">\n",
       "  <thead>\n",
       "    <tr style=\"text-align: right;\">\n",
       "      <th></th>\n",
       "      <th></th>\n",
       "      <th>dataset</th>\n",
       "    </tr>\n",
       "    <tr>\n",
       "      <th>id</th>\n",
       "      <th>version</th>\n",
       "      <th></th>\n",
       "    </tr>\n",
       "  </thead>\n",
       "  <tbody>\n",
       "    <tr>\n",
       "      <th>d94583a6-587c-4c01-b25a-79733d8cb57f</th>\n",
       "      <th>1</th>\n",
       "      <td>&lt;PublishedDataset 'd94583a6-587c-4c01-b25a-797...</td>\n",
       "    </tr>\n",
       "    <tr>\n",
       "      <th>0716d51d-cd30-469b-81b5-f9dc45ba912b</th>\n",
       "      <th>1</th>\n",
       "      <td>&lt;PublishedDataset '0716d51d-cd30-469b-81b5-f9d...</td>\n",
       "    </tr>\n",
       "    <tr>\n",
       "      <th>1241fbc6-c633-4ef5-ab99-f1dc1edce677</th>\n",
       "      <th>1</th>\n",
       "      <td>&lt;PublishedDataset '1241fbc6-c633-4ef5-ab99-f1d...</td>\n",
       "    </tr>\n",
       "    <tr>\n",
       "      <th>bf1154bd-a3ad-45c5-8841-526ceb648029</th>\n",
       "      <th>1</th>\n",
       "      <td>&lt;PublishedDataset 'bf1154bd-a3ad-45c5-8841-526...</td>\n",
       "    </tr>\n",
       "    <tr>\n",
       "      <th>2d2b9b79-3ed9-4446-a57d-7e5061ab9323</th>\n",
       "      <th>1</th>\n",
       "      <td>&lt;PublishedDataset '2d2b9b79-3ed9-4446-a57d-7e5...</td>\n",
       "    </tr>\n",
       "    <tr>\n",
       "      <th>...</th>\n",
       "      <th>...</th>\n",
       "      <td>...</td>\n",
       "    </tr>\n",
       "    <tr>\n",
       "      <th>4b85ed40-e509-4f61-9bc2-6fa1ee3ba0d5</th>\n",
       "      <th>1</th>\n",
       "      <td>&lt;PublishedDataset '4b85ed40-e509-4f61-9bc2-6fa...</td>\n",
       "    </tr>\n",
       "    <tr>\n",
       "      <th>dc356f49-a969-4053-bdbf-b2db81695b48</th>\n",
       "      <th>1</th>\n",
       "      <td>&lt;PublishedDataset 'dc356f49-a969-4053-bdbf-b2d...</td>\n",
       "    </tr>\n",
       "    <tr>\n",
       "      <th>5c2ed092-92f7-4ac1-b0de-b0dab6b54139</th>\n",
       "      <th>1</th>\n",
       "      <td>&lt;PublishedDataset '5c2ed092-92f7-4ac1-b0de-b0d...</td>\n",
       "    </tr>\n",
       "    <tr>\n",
       "      <th>3b6d2927-66d1-4967-9faa-7ff15eb99d02</th>\n",
       "      <th>1</th>\n",
       "      <td>&lt;PublishedDataset '3b6d2927-66d1-4967-9faa-7ff...</td>\n",
       "    </tr>\n",
       "    <tr>\n",
       "      <th>ae128f01-6a73-40a7-821f-bc0a6b0c2e5e</th>\n",
       "      <th>1</th>\n",
       "      <td>&lt;PublishedDataset 'ae128f01-6a73-40a7-821f-bc0...</td>\n",
       "    </tr>\n",
       "  </tbody>\n",
       "</table>\n",
       "<p>984 rows × 1 columns</p>\n",
       "</div>"
      ],
      "text/plain": [
       "                                                                                        dataset\n",
       "id                                   version                                                   \n",
       "d94583a6-587c-4c01-b25a-79733d8cb57f 1        <PublishedDataset 'd94583a6-587c-4c01-b25a-797...\n",
       "0716d51d-cd30-469b-81b5-f9dc45ba912b 1        <PublishedDataset '0716d51d-cd30-469b-81b5-f9d...\n",
       "1241fbc6-c633-4ef5-ab99-f1dc1edce677 1        <PublishedDataset '1241fbc6-c633-4ef5-ab99-f1d...\n",
       "bf1154bd-a3ad-45c5-8841-526ceb648029 1        <PublishedDataset 'bf1154bd-a3ad-45c5-8841-526...\n",
       "2d2b9b79-3ed9-4446-a57d-7e5061ab9323 1        <PublishedDataset '2d2b9b79-3ed9-4446-a57d-7e5...\n",
       "...                                                                                         ...\n",
       "4b85ed40-e509-4f61-9bc2-6fa1ee3ba0d5 1        <PublishedDataset '4b85ed40-e509-4f61-9bc2-6fa...\n",
       "dc356f49-a969-4053-bdbf-b2db81695b48 1        <PublishedDataset 'dc356f49-a969-4053-bdbf-b2d...\n",
       "5c2ed092-92f7-4ac1-b0de-b0dab6b54139 1        <PublishedDataset '5c2ed092-92f7-4ac1-b0de-b0d...\n",
       "3b6d2927-66d1-4967-9faa-7ff15eb99d02 1        <PublishedDataset '3b6d2927-66d1-4967-9faa-7ff...\n",
       "ae128f01-6a73-40a7-821f-bc0a6b0c2e5e 1        <PublishedDataset 'ae128f01-6a73-40a7-821f-bc0...\n",
       "\n",
       "[984 rows x 1 columns]"
      ]
     },
     "execution_count": 6,
     "metadata": {},
     "output_type": "execute_result"
    }
   ],
   "source": [
    "datasets = api.get_published_datasets()\n",
    "datasets"
   ]
  },
  {
   "cell_type": "code",
   "execution_count": 7,
   "metadata": {},
   "outputs": [],
   "source": [
    "first = datasets.iloc[0].dataset"
   ]
  },
  {
   "cell_type": "code",
   "execution_count": 8,
   "metadata": {},
   "outputs": [
    {
     "data": {
      "text/html": [
       "<a href=\"https://ui.develop.edelweiss.douglasconnect.com/dataexplorer?dataset=d94583a6-587c-4c01-b25a-79733d8cb57f:1\">View the dataset d94583a6-587c-4c01-b25a-79733d8cb57f in the browser</a>"
      ],
      "text/plain": [
       "<IPython.core.display.HTML object>"
      ]
     },
     "execution_count": 8,
     "metadata": {},
     "output_type": "execute_result"
    }
   ],
   "source": [
    "display_link_to_published_dataset(first.id, first.version)"
   ]
  },
  {
   "cell_type": "markdown",
   "metadata": {},
   "source": [
    "### Create a new dataset from file (high level operation)\n",
    "\n",
    "Here everything is done automatically – you pass in an open file, a name and an optional arbitrary metadata dict and the dataset is created, uploaded and published. The returned value is an instance of the `PublishedDataset` class (see below for how to get a `pandas.DataFrame` from the dataset)."
   ]
  },
  {
   "cell_type": "code",
   "execution_count": 9,
   "metadata": {},
   "outputs": [
    {
     "data": {
      "text/plain": [
       "<PublishedDataset '9e9b729e-e4cd-428a-be93-5efffb5b7d18':1 - python test>"
      ]
     },
     "execution_count": 9,
     "metadata": {},
     "output_type": "execute_result"
    }
   ],
   "source": [
    "with open ('../../tests/Serialization/data/small1.csv') as f:\n",
    "    dataset = api.create_published_dataset_from_csv_file(\"python test\", f, {\"metadata-dummy-string\": \"string value\", \"metadata-dummy-number\": 42.0})\n",
    "dataset                                                                       "
   ]
  },
  {
   "cell_type": "markdown",
   "metadata": {},
   "source": [
    "### Get data from a published dataset"
   ]
  },
  {
   "cell_type": "code",
   "execution_count": 10,
   "metadata": {},
   "outputs": [
    {
     "data": {
      "text/html": [
       "<div>\n",
       "<style scoped>\n",
       "    .dataframe tbody tr th:only-of-type {\n",
       "        vertical-align: middle;\n",
       "    }\n",
       "\n",
       "    .dataframe tbody tr th {\n",
       "        vertical-align: top;\n",
       "    }\n",
       "\n",
       "    .dataframe thead th {\n",
       "        text-align: right;\n",
       "    }\n",
       "</style>\n",
       "<table border=\"1\" class=\"dataframe\">\n",
       "  <thead>\n",
       "    <tr style=\"text-align: right;\">\n",
       "      <th></th>\n",
       "      <th>Sample ID</th>\n",
       "      <th>Method name</th>\n",
       "      <th>Toxicity domain</th>\n",
       "      <th>Information domain</th>\n",
       "      <th>Date</th>\n",
       "      <th>Experiment ID</th>\n",
       "      <th>Organization abbreviation</th>\n",
       "      <th>Organization full name</th>\n",
       "      <th>Name of PI</th>\n",
       "      <th>Person entering data</th>\n",
       "      <th>...</th>\n",
       "      <th>Endpoint 1 measure</th>\n",
       "      <th>Endpoint 1 definition</th>\n",
       "      <th>Endpoint 1 type</th>\n",
       "      <th>Endpoint 1 readout method</th>\n",
       "      <th>Endpoint 1 data</th>\n",
       "      <th>Endpoint 1 data unit</th>\n",
       "      <th>Endpoint 1 mean</th>\n",
       "      <th>Endpoint 1 standard deviation</th>\n",
       "      <th>Endpoint 1 standard deviation unit</th>\n",
       "      <th>Comments / problems with compound</th>\n",
       "    </tr>\n",
       "  </thead>\n",
       "  <tbody>\n",
       "    <tr>\n",
       "      <th>1</th>\n",
       "      <td>Part1_1_1</td>\n",
       "      <td>BDS22a_Tox_RGA_cytotox_act_24h</td>\n",
       "      <td>RDT and DART</td>\n",
       "      <td>cytotoxicity</td>\n",
       "      <td>2017-03-01</td>\n",
       "      <td>PH11410 010317 HAI-YEN CYTOTOX-CALUX-01</td>\n",
       "      <td>BDS</td>\n",
       "      <td>BioDetection Systems bv</td>\n",
       "      <td>Bart van der Burg</td>\n",
       "      <td>Barbara van Vugt-Lussenburg</td>\n",
       "      <td>...</td>\n",
       "      <td>luciferase</td>\n",
       "      <td>cytotoxicity</td>\n",
       "      <td>functional readout</td>\n",
       "      <td>luminescence</td>\n",
       "      <td>469644</td>\n",
       "      <td>relative light units</td>\n",
       "      <td>465007.333</td>\n",
       "      <td>1.558</td>\n",
       "      <td>%</td>\n",
       "      <td></td>\n",
       "    </tr>\n",
       "    <tr>\n",
       "      <th>2</th>\n",
       "      <td>Part1_1_2</td>\n",
       "      <td>BDS22a_Tox_RGA_cytotox_act_24h</td>\n",
       "      <td>RDT and DART</td>\n",
       "      <td>cytotoxicity</td>\n",
       "      <td>2017-03-01</td>\n",
       "      <td>PH11410 010317 HAI-YEN CYTOTOX-CALUX-01</td>\n",
       "      <td>BDS</td>\n",
       "      <td>BioDetection Systems bv</td>\n",
       "      <td>Bart van der Burg</td>\n",
       "      <td>Barbara van Vugt-Lussenburg</td>\n",
       "      <td>...</td>\n",
       "      <td>luciferase</td>\n",
       "      <td>cytotoxicity</td>\n",
       "      <td>functional readout</td>\n",
       "      <td>luminescence</td>\n",
       "      <td>468717</td>\n",
       "      <td>relative light units</td>\n",
       "      <td>465007.333</td>\n",
       "      <td>1.558</td>\n",
       "      <td>%</td>\n",
       "      <td></td>\n",
       "    </tr>\n",
       "    <tr>\n",
       "      <th>3</th>\n",
       "      <td>Part1_1_3</td>\n",
       "      <td>BDS22a_Tox_RGA_cytotox_act_24h</td>\n",
       "      <td>RDT and DART</td>\n",
       "      <td>cytotoxicity</td>\n",
       "      <td>2017-03-01</td>\n",
       "      <td>PH11410 010317 HAI-YEN CYTOTOX-CALUX-01</td>\n",
       "      <td>BDS</td>\n",
       "      <td>BioDetection Systems bv</td>\n",
       "      <td>Bart van der Burg</td>\n",
       "      <td>Barbara van Vugt-Lussenburg</td>\n",
       "      <td>...</td>\n",
       "      <td>luciferase</td>\n",
       "      <td>cytotoxicity</td>\n",
       "      <td>functional readout</td>\n",
       "      <td>luminescence</td>\n",
       "      <td>456661</td>\n",
       "      <td>relative light units</td>\n",
       "      <td>465007.333</td>\n",
       "      <td>1.558</td>\n",
       "      <td>%</td>\n",
       "      <td></td>\n",
       "    </tr>\n",
       "    <tr>\n",
       "      <th>4</th>\n",
       "      <td>Part1_2_1</td>\n",
       "      <td>BDS22a_Tox_RGA_cytotox_act_24h</td>\n",
       "      <td>RDT and DART</td>\n",
       "      <td>cytotoxicity</td>\n",
       "      <td>2017-03-01</td>\n",
       "      <td>PH11410 010317 HAI-YEN CYTOTOX-CALUX-01</td>\n",
       "      <td>BDS</td>\n",
       "      <td>BioDetection Systems bv</td>\n",
       "      <td>Bart van der Burg</td>\n",
       "      <td>Barbara van Vugt-Lussenburg</td>\n",
       "      <td>...</td>\n",
       "      <td>luciferase</td>\n",
       "      <td>cytotoxicity</td>\n",
       "      <td>functional readout</td>\n",
       "      <td>luminescence</td>\n",
       "      <td>464629</td>\n",
       "      <td>relative light units</td>\n",
       "      <td>514442.667</td>\n",
       "      <td>8.438</td>\n",
       "      <td>%</td>\n",
       "      <td></td>\n",
       "    </tr>\n",
       "    <tr>\n",
       "      <th>5</th>\n",
       "      <td>Part1_2_2</td>\n",
       "      <td>BDS22a_Tox_RGA_cytotox_act_24h</td>\n",
       "      <td>RDT and DART</td>\n",
       "      <td>cytotoxicity</td>\n",
       "      <td>2017-03-01</td>\n",
       "      <td>PH11410 010317 HAI-YEN CYTOTOX-CALUX-01</td>\n",
       "      <td>BDS</td>\n",
       "      <td>BioDetection Systems bv</td>\n",
       "      <td>Bart van der Burg</td>\n",
       "      <td>Barbara van Vugt-Lussenburg</td>\n",
       "      <td>...</td>\n",
       "      <td>luciferase</td>\n",
       "      <td>cytotoxicity</td>\n",
       "      <td>functional readout</td>\n",
       "      <td>luminescence</td>\n",
       "      <td>544186</td>\n",
       "      <td>relative light units</td>\n",
       "      <td>514442.667</td>\n",
       "      <td>8.438</td>\n",
       "      <td>%</td>\n",
       "      <td></td>\n",
       "    </tr>\n",
       "    <tr>\n",
       "      <th>6</th>\n",
       "      <td>Part1_2_3</td>\n",
       "      <td>BDS22a_Tox_RGA_cytotox_act_24h</td>\n",
       "      <td>RDT and DART</td>\n",
       "      <td>cytotoxicity</td>\n",
       "      <td>2017-03-01</td>\n",
       "      <td>PH11410 010317 HAI-YEN CYTOTOX-CALUX-01</td>\n",
       "      <td>BDS</td>\n",
       "      <td>BioDetection Systems bv</td>\n",
       "      <td>Bart van der Burg</td>\n",
       "      <td>Barbara van Vugt-Lussenburg</td>\n",
       "      <td>...</td>\n",
       "      <td>luciferase</td>\n",
       "      <td>cytotoxicity</td>\n",
       "      <td>functional readout</td>\n",
       "      <td>luminescence</td>\n",
       "      <td>534513</td>\n",
       "      <td>relative light units</td>\n",
       "      <td>514442.667</td>\n",
       "      <td>8.438</td>\n",
       "      <td>%</td>\n",
       "      <td></td>\n",
       "    </tr>\n",
       "    <tr>\n",
       "      <th>7</th>\n",
       "      <td>Part1_3_1</td>\n",
       "      <td>BDS22a_Tox_RGA_cytotox_act_24h</td>\n",
       "      <td>RDT and DART</td>\n",
       "      <td>cytotoxicity</td>\n",
       "      <td>2017-03-01</td>\n",
       "      <td>PH11410 010317 HAI-YEN CYTOTOX-CALUX-01</td>\n",
       "      <td>BDS</td>\n",
       "      <td>BioDetection Systems bv</td>\n",
       "      <td>Bart van der Burg</td>\n",
       "      <td>Barbara van Vugt-Lussenburg</td>\n",
       "      <td>...</td>\n",
       "      <td>luciferase</td>\n",
       "      <td>cytotoxicity</td>\n",
       "      <td>functional readout</td>\n",
       "      <td>luminescence</td>\n",
       "      <td>517964</td>\n",
       "      <td>relative light units</td>\n",
       "      <td>477431.667</td>\n",
       "      <td>10.248</td>\n",
       "      <td>%</td>\n",
       "      <td></td>\n",
       "    </tr>\n",
       "    <tr>\n",
       "      <th>8</th>\n",
       "      <td>Part1_3_2</td>\n",
       "      <td>BDS22a_Tox_RGA_cytotox_act_24h</td>\n",
       "      <td>RDT and DART</td>\n",
       "      <td>cytotoxicity</td>\n",
       "      <td>2017-03-01</td>\n",
       "      <td>PH11410 010317 HAI-YEN CYTOTOX-CALUX-01</td>\n",
       "      <td>BDS</td>\n",
       "      <td>BioDetection Systems bv</td>\n",
       "      <td>Bart van der Burg</td>\n",
       "      <td>Barbara van Vugt-Lussenburg</td>\n",
       "      <td>...</td>\n",
       "      <td>luciferase</td>\n",
       "      <td>cytotoxicity</td>\n",
       "      <td>functional readout</td>\n",
       "      <td>luminescence</td>\n",
       "      <td>491249</td>\n",
       "      <td>relative light units</td>\n",
       "      <td>477431.667</td>\n",
       "      <td>10.248</td>\n",
       "      <td>%</td>\n",
       "      <td></td>\n",
       "    </tr>\n",
       "    <tr>\n",
       "      <th>9</th>\n",
       "      <td>Part1_3_3</td>\n",
       "      <td>BDS22a_Tox_RGA_cytotox_act_24h</td>\n",
       "      <td>RDT and DART</td>\n",
       "      <td>cytotoxicity</td>\n",
       "      <td>2017-03-01</td>\n",
       "      <td>PH11410 010317 HAI-YEN CYTOTOX-CALUX-01</td>\n",
       "      <td>BDS</td>\n",
       "      <td>BioDetection Systems bv</td>\n",
       "      <td>Bart van der Burg</td>\n",
       "      <td>Barbara van Vugt-Lussenburg</td>\n",
       "      <td>...</td>\n",
       "      <td>luciferase</td>\n",
       "      <td>cytotoxicity</td>\n",
       "      <td>functional readout</td>\n",
       "      <td>luminescence</td>\n",
       "      <td>423082</td>\n",
       "      <td>relative light units</td>\n",
       "      <td>477431.667</td>\n",
       "      <td>10.248</td>\n",
       "      <td>%</td>\n",
       "      <td></td>\n",
       "    </tr>\n",
       "  </tbody>\n",
       "</table>\n",
       "<p>9 rows × 86 columns</p>\n",
       "</div>"
      ],
      "text/plain": [
       "   Sample ID                     Method name Toxicity domain  \\\n",
       "1  Part1_1_1  BDS22a_Tox_RGA_cytotox_act_24h    RDT and DART   \n",
       "2  Part1_1_2  BDS22a_Tox_RGA_cytotox_act_24h    RDT and DART   \n",
       "3  Part1_1_3  BDS22a_Tox_RGA_cytotox_act_24h    RDT and DART   \n",
       "4  Part1_2_1  BDS22a_Tox_RGA_cytotox_act_24h    RDT and DART   \n",
       "5  Part1_2_2  BDS22a_Tox_RGA_cytotox_act_24h    RDT and DART   \n",
       "6  Part1_2_3  BDS22a_Tox_RGA_cytotox_act_24h    RDT and DART   \n",
       "7  Part1_3_1  BDS22a_Tox_RGA_cytotox_act_24h    RDT and DART   \n",
       "8  Part1_3_2  BDS22a_Tox_RGA_cytotox_act_24h    RDT and DART   \n",
       "9  Part1_3_3  BDS22a_Tox_RGA_cytotox_act_24h    RDT and DART   \n",
       "\n",
       "  Information domain        Date                            Experiment ID  \\\n",
       "1       cytotoxicity  2017-03-01  PH11410 010317 HAI-YEN CYTOTOX-CALUX-01   \n",
       "2       cytotoxicity  2017-03-01  PH11410 010317 HAI-YEN CYTOTOX-CALUX-01   \n",
       "3       cytotoxicity  2017-03-01  PH11410 010317 HAI-YEN CYTOTOX-CALUX-01   \n",
       "4       cytotoxicity  2017-03-01  PH11410 010317 HAI-YEN CYTOTOX-CALUX-01   \n",
       "5       cytotoxicity  2017-03-01  PH11410 010317 HAI-YEN CYTOTOX-CALUX-01   \n",
       "6       cytotoxicity  2017-03-01  PH11410 010317 HAI-YEN CYTOTOX-CALUX-01   \n",
       "7       cytotoxicity  2017-03-01  PH11410 010317 HAI-YEN CYTOTOX-CALUX-01   \n",
       "8       cytotoxicity  2017-03-01  PH11410 010317 HAI-YEN CYTOTOX-CALUX-01   \n",
       "9       cytotoxicity  2017-03-01  PH11410 010317 HAI-YEN CYTOTOX-CALUX-01   \n",
       "\n",
       "  Organization abbreviation   Organization full name         Name of PI  \\\n",
       "1                       BDS  BioDetection Systems bv  Bart van der Burg   \n",
       "2                       BDS  BioDetection Systems bv  Bart van der Burg   \n",
       "3                       BDS  BioDetection Systems bv  Bart van der Burg   \n",
       "4                       BDS  BioDetection Systems bv  Bart van der Burg   \n",
       "5                       BDS  BioDetection Systems bv  Bart van der Burg   \n",
       "6                       BDS  BioDetection Systems bv  Bart van der Burg   \n",
       "7                       BDS  BioDetection Systems bv  Bart van der Burg   \n",
       "8                       BDS  BioDetection Systems bv  Bart van der Burg   \n",
       "9                       BDS  BioDetection Systems bv  Bart van der Burg   \n",
       "\n",
       "          Person entering data  ... Endpoint 1 measure Endpoint 1 definition  \\\n",
       "1  Barbara van Vugt-Lussenburg  ...         luciferase          cytotoxicity   \n",
       "2  Barbara van Vugt-Lussenburg  ...         luciferase          cytotoxicity   \n",
       "3  Barbara van Vugt-Lussenburg  ...         luciferase          cytotoxicity   \n",
       "4  Barbara van Vugt-Lussenburg  ...         luciferase          cytotoxicity   \n",
       "5  Barbara van Vugt-Lussenburg  ...         luciferase          cytotoxicity   \n",
       "6  Barbara van Vugt-Lussenburg  ...         luciferase          cytotoxicity   \n",
       "7  Barbara van Vugt-Lussenburg  ...         luciferase          cytotoxicity   \n",
       "8  Barbara van Vugt-Lussenburg  ...         luciferase          cytotoxicity   \n",
       "9  Barbara van Vugt-Lussenburg  ...         luciferase          cytotoxicity   \n",
       "\n",
       "      Endpoint 1 type Endpoint 1 readout method Endpoint 1 data  \\\n",
       "1  functional readout              luminescence          469644   \n",
       "2  functional readout              luminescence          468717   \n",
       "3  functional readout              luminescence          456661   \n",
       "4  functional readout              luminescence          464629   \n",
       "5  functional readout              luminescence          544186   \n",
       "6  functional readout              luminescence          534513   \n",
       "7  functional readout              luminescence          517964   \n",
       "8  functional readout              luminescence          491249   \n",
       "9  functional readout              luminescence          423082   \n",
       "\n",
       "   Endpoint 1 data unit Endpoint 1 mean Endpoint 1 standard deviation  \\\n",
       "1  relative light units      465007.333                         1.558   \n",
       "2  relative light units      465007.333                         1.558   \n",
       "3  relative light units      465007.333                         1.558   \n",
       "4  relative light units      514442.667                         8.438   \n",
       "5  relative light units      514442.667                         8.438   \n",
       "6  relative light units      514442.667                         8.438   \n",
       "7  relative light units      477431.667                        10.248   \n",
       "8  relative light units      477431.667                        10.248   \n",
       "9  relative light units      477431.667                        10.248   \n",
       "\n",
       "  Endpoint 1 standard deviation unit Comments / problems with compound  \n",
       "1                                  %                                    \n",
       "2                                  %                                    \n",
       "3                                  %                                    \n",
       "4                                  %                                    \n",
       "5                                  %                                    \n",
       "6                                  %                                    \n",
       "7                                  %                                    \n",
       "8                                  %                                    \n",
       "9                                  %                                    \n",
       "\n",
       "[9 rows x 86 columns]"
      ]
     },
     "execution_count": 10,
     "metadata": {},
     "output_type": "execute_result"
    }
   ],
   "source": [
    "dataframe = dataset.get_data()\n",
    "dataframe"
   ]
  },
  {
   "cell_type": "code",
   "execution_count": 11,
   "metadata": {
    "scrolled": true
   },
   "outputs": [
    {
     "data": {
      "text/plain": [
       "bucket         term                  \n",
       "Compound       2-Methyl butanoic acid    6\n",
       "               DMSO                      3\n",
       "Group ID       Part1_1                   3\n",
       "               Part1_2                   3\n",
       "               Part1_3                   3\n",
       "Sample type    blank                     3\n",
       "               test                      6\n",
       "Pairing blank                            3\n",
       "               GPart1_1                  6\n",
       "dtype: int64"
      ]
     },
     "execution_count": 11,
     "metadata": {},
     "output_type": "execute_result"
    }
   ],
   "source": [
    "aggregations = dataset.get_data_aggregations()\n",
    "aggregations[aggregations != len(dataframe)]"
   ]
  },
  {
   "cell_type": "markdown",
   "metadata": {},
   "source": [
    "### Delete a dataset and all its versions"
   ]
  },
  {
   "cell_type": "code",
   "execution_count": 12,
   "metadata": {},
   "outputs": [
    {
     "data": {
      "text/plain": [
       "<PublishedDataset '9e9b729e-e4cd-428a-be93-5efffb5b7d18':1 - python test>"
      ]
     },
     "execution_count": 12,
     "metadata": {},
     "output_type": "execute_result"
    }
   ],
   "source": [
    "dataset2 = api.get_published_dataset(dataset.id, version='latest')\n",
    "dataset2"
   ]
  },
  {
   "cell_type": "code",
   "execution_count": 13,
   "metadata": {},
   "outputs": [],
   "source": [
    "dataset2.delete_all_versions()"
   ]
  },
  {
   "cell_type": "markdown",
   "metadata": {},
   "source": [
    "### Create new dataset from file – the manual way\n",
    "\n",
    "Here we have to: \n",
    "* create a new in-progress dataset\n",
    "* Upload the data\n",
    "* Infer a schema (or we could alternatively upload one)\n",
    "* Optionally upload metadata (a python dict object that will be serialized as json)\n",
    "* Finally publish the dataset\n"
   ]
  },
  {
   "cell_type": "code",
   "execution_count": 14,
   "metadata": {},
   "outputs": [
    {
     "name": "stdout",
     "output_type": "stream",
     "text": [
      "DATASET: <InProgressDataset '87a694d0-bf56-4098-afcd-27dbede4167f' - My dataset>\n",
      "inferring schema from file ...\n",
      "DATASET published: <PublishedDataset '87a694d0-bf56-4098-afcd-27dbede4167f':1 - My dataset>\n"
     ]
    }
   ],
   "source": [
    "datafile = '../../tests/Serialization/data/small1.csv'\n",
    "name = 'My dataset'\n",
    "schemafile = None # if none, schema will be inferred below\n",
    "metadata = None # dict object that will be serialized to json or None\n",
    "metadatafile = None # path to the metadata file or None\n",
    "description = \"This is a *markdown* description that can use [hyperlinks](https://edelweissconnect.com)\"\n",
    "\n",
    "dataset1 = api.create_in_progress_dataset(name)\n",
    "print('DATASET:', dataset1)\n",
    "try:\n",
    "    with open(datafile) as f:\n",
    "        dataset1.upload_data(f)\n",
    "    if schemafile is not None:\n",
    "        print('uploading schema from file ...')\n",
    "        with open(schemafile) as f:\n",
    "            dataset1.upload_schema_file(f)\n",
    "    else:\n",
    "        print('inferring schema from file ...')\n",
    "        dataset1.infer_schema()\n",
    "    if metadata is not None:\n",
    "        print('uploading metadata ...')\n",
    "        dataset1.upload_metadata(metadata)\n",
    "    elif metadatafile is not None:\n",
    "        print('uploading metadata from file ...')\n",
    "        with open(metadatafile) as f:\n",
    "            dataset1.upload_metadata_file(f)\n",
    "    \n",
    "    dataset1.set_description(description)\n",
    "        \n",
    "    published_dataset = dataset1.publish('My first commit')\n",
    "    print('DATASET published:',published_dataset)\n",
    "except requests.HTTPError as err:\n",
    "    print('not published: ', err.response.text)"
   ]
  },
  {
   "cell_type": "code",
   "execution_count": 15,
   "metadata": {},
   "outputs": [
    {
     "data": {
      "text/plain": [
       "{}"
      ]
     },
     "execution_count": 15,
     "metadata": {},
     "output_type": "execute_result"
    }
   ],
   "source": [
    "dataset1.metadata"
   ]
  }
 ],
 "metadata": {
  "kernelspec": {
   "display_name": "Python 3.6.4 64-bit ('base': conda)",
   "language": "python",
   "name": "python36464bitbaseconda74e780bc8db345b48a27968ff0d7e7b9"
  },
  "language_info": {
   "codemirror_mode": {
    "name": "ipython",
    "version": 3
   },
   "file_extension": ".py",
   "mimetype": "text/x-python",
   "name": "python",
   "nbconvert_exporter": "python",
   "pygments_lexer": "ipython3",
   "version": "3.7.0"
  }
 },
 "nbformat": 4,
 "nbformat_minor": 2
}
