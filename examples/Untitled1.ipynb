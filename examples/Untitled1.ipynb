{
 "cells": [
  {
   "cell_type": "code",
   "execution_count": 1,
   "metadata": {},
   "outputs": [
    {
     "name": "stdout",
     "output_type": "stream",
     "text": [
      "Requirement already satisfied: edelweiss_data in c:\\users\\danyx\\miniconda3\\lib\\site-packages (0.2.11)\n",
      "Requirement already satisfied: pyjwt<2.0.0,>=1.5.3 in c:\\users\\danyx\\miniconda3\\lib\\site-packages (from edelweiss_data) (1.7.1)\n",
      "Requirement already satisfied: requests<3.0.0,>=2.18.4 in c:\\users\\danyx\\miniconda3\\lib\\site-packages (from edelweiss_data) (2.22.0)\n",
      "Requirement already satisfied: pandas>=0.23.0 in c:\\users\\danyx\\miniconda3\\lib\\site-packages (from edelweiss_data) (1.0.1)\n",
      "Requirement already satisfied: iso8601>=0.1.11 in c:\\users\\danyx\\miniconda3\\lib\\site-packages (from edelweiss_data) (0.1.12)\n",
      "Requirement already satisfied: idna<2.9,>=2.5 in c:\\users\\danyx\\miniconda3\\lib\\site-packages (from requests<3.0.0,>=2.18.4->edelweiss_data) (2.8)\n",
      "Requirement already satisfied: chardet<3.1.0,>=3.0.2 in c:\\users\\danyx\\miniconda3\\lib\\site-packages (from requests<3.0.0,>=2.18.4->edelweiss_data) (3.0.4)\n",
      "Requirement already satisfied: urllib3!=1.25.0,!=1.25.1,<1.26,>=1.21.1 in c:\\users\\danyx\\miniconda3\\lib\\site-packages (from requests<3.0.0,>=2.18.4->edelweiss_data) (1.24.2)\n",
      "Requirement already satisfied: certifi>=2017.4.17 in c:\\users\\danyx\\miniconda3\\lib\\site-packages (from requests<3.0.0,>=2.18.4->edelweiss_data) (2019.11.28)\n",
      "Requirement already satisfied: pytz>=2017.2 in c:\\users\\danyx\\miniconda3\\lib\\site-packages (from pandas>=0.23.0->edelweiss_data) (2019.3)\n",
      "Requirement already satisfied: numpy>=1.13.3 in c:\\users\\danyx\\miniconda3\\lib\\site-packages (from pandas>=0.23.0->edelweiss_data) (1.18.1)\n",
      "Requirement already satisfied: python-dateutil>=2.6.1 in c:\\users\\danyx\\miniconda3\\lib\\site-packages (from pandas>=0.23.0->edelweiss_data) (2.8.1)\n",
      "Requirement already satisfied: six>=1.5 in c:\\users\\danyx\\miniconda3\\lib\\site-packages (from python-dateutil>=2.6.1->pandas>=0.23.0->edelweiss_data) (1.12.0)\n"
     ]
    }
   ],
   "source": [
    "!pip install edelweiss_data"
   ]
  },
  {
   "cell_type": "code",
   "execution_count": 2,
   "metadata": {},
   "outputs": [
    {
     "ename": "EdelweissHttpError",
     "evalue": "Edelweiss Error: \"User is unauthorized for this dataset\" for url http://localhost:8000/datasets/0c799fce-995d-4948-aae0-c701e23126db/versions/1",
     "output_type": "error",
     "traceback": [
      "\u001b[1;31m---------------------------------------------------------------------------\u001b[0m",
      "\u001b[1;31mHTTPError\u001b[0m                                 Traceback (most recent call last)",
      "\u001b[1;32m~\\Miniconda3\\lib\\site-packages\\edelweiss_data\\server.py\u001b[0m in \u001b[0;36m_handle_response\u001b[1;34m(self, response)\u001b[0m\n\u001b[0;32m    206\u001b[0m         \u001b[1;32mtry\u001b[0m\u001b[1;33m:\u001b[0m\u001b[1;33m\u001b[0m\u001b[1;33m\u001b[0m\u001b[0m\n\u001b[1;32m--> 207\u001b[1;33m             \u001b[0mresponse\u001b[0m\u001b[1;33m.\u001b[0m\u001b[0mraise_for_status\u001b[0m\u001b[1;33m(\u001b[0m\u001b[1;33m)\u001b[0m\u001b[1;33m\u001b[0m\u001b[1;33m\u001b[0m\u001b[0m\n\u001b[0m\u001b[0;32m    208\u001b[0m         \u001b[1;32mexcept\u001b[0m \u001b[0mrequests\u001b[0m\u001b[1;33m.\u001b[0m\u001b[0mHTTPError\u001b[0m \u001b[1;32mas\u001b[0m \u001b[0merror\u001b[0m\u001b[1;33m:\u001b[0m\u001b[1;33m\u001b[0m\u001b[1;33m\u001b[0m\u001b[0m\n",
      "\u001b[1;32m~\\Miniconda3\\lib\\site-packages\\requests\\models.py\u001b[0m in \u001b[0;36mraise_for_status\u001b[1;34m(self)\u001b[0m\n\u001b[0;32m    939\u001b[0m         \u001b[1;32mif\u001b[0m \u001b[0mhttp_error_msg\u001b[0m\u001b[1;33m:\u001b[0m\u001b[1;33m\u001b[0m\u001b[1;33m\u001b[0m\u001b[0m\n\u001b[1;32m--> 940\u001b[1;33m             \u001b[1;32mraise\u001b[0m \u001b[0mHTTPError\u001b[0m\u001b[1;33m(\u001b[0m\u001b[0mhttp_error_msg\u001b[0m\u001b[1;33m,\u001b[0m \u001b[0mresponse\u001b[0m\u001b[1;33m=\u001b[0m\u001b[0mself\u001b[0m\u001b[1;33m)\u001b[0m\u001b[1;33m\u001b[0m\u001b[1;33m\u001b[0m\u001b[0m\n\u001b[0m\u001b[0;32m    941\u001b[0m \u001b[1;33m\u001b[0m\u001b[0m\n",
      "\u001b[1;31mHTTPError\u001b[0m: 403 Client Error: Forbidden for url: http://localhost:8000/datasets/0c799fce-995d-4948-aae0-c701e23126db/versions/1",
      "\nDuring handling of the above exception, another exception occurred:\n",
      "\u001b[1;31mEdelweissHttpError\u001b[0m                        Traceback (most recent call last)",
      "\u001b[1;32m<ipython-input-2-fb7fd706a08d>\u001b[0m in \u001b[0;36m<module>\u001b[1;34m\u001b[0m\n\u001b[0;32m      4\u001b[0m \u001b[0mapi\u001b[0m\u001b[1;33m.\u001b[0m\u001b[0mauthenticate\u001b[0m\u001b[1;33m(\u001b[0m\u001b[1;33m)\u001b[0m\u001b[1;33m\u001b[0m\u001b[1;33m\u001b[0m\u001b[0m\n\u001b[0;32m      5\u001b[0m \u001b[1;33m\u001b[0m\u001b[0m\n\u001b[1;32m----> 6\u001b[1;33m \u001b[0mdataset\u001b[0m \u001b[1;33m=\u001b[0m \u001b[0mapi\u001b[0m\u001b[1;33m.\u001b[0m\u001b[0mget_published_dataset\u001b[0m\u001b[1;33m(\u001b[0m\u001b[1;34m'0c799fce-995d-4948-aae0-c701e23126db'\u001b[0m\u001b[1;33m,\u001b[0m \u001b[0mversion\u001b[0m\u001b[1;33m=\u001b[0m\u001b[1;36m1\u001b[0m\u001b[1;33m)\u001b[0m\u001b[1;33m\u001b[0m\u001b[1;33m\u001b[0m\u001b[0m\n\u001b[0m\u001b[0;32m      7\u001b[0m data_frame = dataset.get_data(\n\u001b[0;32m      8\u001b[0m   \u001b[0mcondition\u001b[0m \u001b[1;33m=\u001b[0m \u001b[1;32mNone\u001b[0m\u001b[1;33m,\u001b[0m\u001b[1;33m\u001b[0m\u001b[1;33m\u001b[0m\u001b[0m\n",
      "\u001b[1;32m~\\Miniconda3\\lib\\site-packages\\edelweiss_data\\api.py\u001b[0m in \u001b[0;36mget_published_dataset\u001b[1;34m(self, id, version)\u001b[0m\n\u001b[0;32m    287\u001b[0m             \u001b[0mversion\u001b[0m \u001b[1;33m=\u001b[0m \u001b[0mPublishedDataset\u001b[0m\u001b[1;33m.\u001b[0m\u001b[0mLATEST\u001b[0m\u001b[1;33m\u001b[0m\u001b[1;33m\u001b[0m\u001b[0m\n\u001b[0;32m    288\u001b[0m         \u001b[0mroute\u001b[0m \u001b[1;33m=\u001b[0m \u001b[1;34m'/datasets/{}/versions/{}'\u001b[0m\u001b[1;33m.\u001b[0m\u001b[0mformat\u001b[0m\u001b[1;33m(\u001b[0m\u001b[0mid\u001b[0m\u001b[1;33m,\u001b[0m \u001b[0mversion\u001b[0m\u001b[1;33m)\u001b[0m\u001b[1;33m\u001b[0m\u001b[1;33m\u001b[0m\u001b[0m\n\u001b[1;32m--> 289\u001b[1;33m         \u001b[1;32mreturn\u001b[0m \u001b[0mPublishedDataset\u001b[0m\u001b[1;33m.\u001b[0m\u001b[0mdecode\u001b[0m\u001b[1;33m(\u001b[0m\u001b[0mself\u001b[0m\u001b[1;33m.\u001b[0m\u001b[0mget\u001b[0m\u001b[1;33m(\u001b[0m\u001b[0mroute\u001b[0m\u001b[1;33m)\u001b[0m\u001b[1;33m,\u001b[0m \u001b[0mapi\u001b[0m\u001b[1;33m=\u001b[0m\u001b[0mself\u001b[0m\u001b[1;33m)\u001b[0m\u001b[1;33m\u001b[0m\u001b[1;33m\u001b[0m\u001b[0m\n\u001b[0m\u001b[0;32m    290\u001b[0m \u001b[1;33m\u001b[0m\u001b[0m\n\u001b[0;32m    291\u001b[0m     \u001b[1;32mdef\u001b[0m \u001b[0mget_published_dataset_versions\u001b[0m\u001b[1;33m(\u001b[0m\u001b[0mself\u001b[0m\u001b[1;33m,\u001b[0m \u001b[0mid\u001b[0m\u001b[1;33m)\u001b[0m\u001b[1;33m:\u001b[0m\u001b[1;33m\u001b[0m\u001b[1;33m\u001b[0m\u001b[0m\n",
      "\u001b[1;32m~\\Miniconda3\\lib\\site-packages\\edelweiss_data\\server.py\u001b[0m in \u001b[0;36mget\u001b[1;34m(self, route, json)\u001b[0m\n\u001b[0;32m    225\u001b[0m         '''\n\u001b[0;32m    226\u001b[0m         \u001b[0mresponse\u001b[0m \u001b[1;33m=\u001b[0m \u001b[0mrequests\u001b[0m\u001b[1;33m.\u001b[0m\u001b[0mget\u001b[0m\u001b[1;33m(\u001b[0m\u001b[0mself\u001b[0m\u001b[1;33m.\u001b[0m\u001b[0m_absolute_url\u001b[0m\u001b[1;33m(\u001b[0m\u001b[0mroute\u001b[0m\u001b[1;33m)\u001b[0m\u001b[1;33m,\u001b[0m \u001b[0mjson\u001b[0m\u001b[1;33m=\u001b[0m\u001b[0mjson\u001b[0m\u001b[1;33m,\u001b[0m \u001b[0mauth\u001b[0m\u001b[1;33m=\u001b[0m\u001b[0mself\u001b[0m\u001b[1;33m.\u001b[0m\u001b[0mauth\u001b[0m\u001b[1;33m)\u001b[0m\u001b[1;33m\u001b[0m\u001b[1;33m\u001b[0m\u001b[0m\n\u001b[1;32m--> 227\u001b[1;33m         \u001b[1;32mreturn\u001b[0m \u001b[0mself\u001b[0m\u001b[1;33m.\u001b[0m\u001b[0m_handle_response\u001b[0m\u001b[1;33m(\u001b[0m\u001b[0mresponse\u001b[0m\u001b[1;33m)\u001b[0m\u001b[1;33m\u001b[0m\u001b[1;33m\u001b[0m\u001b[0m\n\u001b[0m\u001b[0;32m    228\u001b[0m \u001b[1;33m\u001b[0m\u001b[0m\n\u001b[0;32m    229\u001b[0m     \u001b[1;32mdef\u001b[0m \u001b[0mpost\u001b[0m\u001b[1;33m(\u001b[0m\u001b[0mself\u001b[0m\u001b[1;33m,\u001b[0m \u001b[0mroute\u001b[0m\u001b[1;33m,\u001b[0m \u001b[0mjson\u001b[0m\u001b[1;33m=\u001b[0m\u001b[1;32mNone\u001b[0m\u001b[1;33m)\u001b[0m\u001b[1;33m:\u001b[0m\u001b[1;33m\u001b[0m\u001b[1;33m\u001b[0m\u001b[0m\n",
      "\u001b[1;32m~\\Miniconda3\\lib\\site-packages\\edelweiss_data\\server.py\u001b[0m in \u001b[0;36m_handle_response\u001b[1;34m(self, response)\u001b[0m\n\u001b[0;32m    213\u001b[0m             \u001b[1;32mexcept\u001b[0m\u001b[1;33m:\u001b[0m\u001b[1;33m\u001b[0m\u001b[1;33m\u001b[0m\u001b[0m\n\u001b[0;32m    214\u001b[0m                 \u001b[1;32mpass\u001b[0m\u001b[1;33m\u001b[0m\u001b[1;33m\u001b[0m\u001b[0m\n\u001b[1;32m--> 215\u001b[1;33m             \u001b[1;32mraise\u001b[0m \u001b[0merror\u001b[0m\u001b[1;33m\u001b[0m\u001b[1;33m\u001b[0m\u001b[0m\n\u001b[0m\u001b[0;32m    216\u001b[0m \u001b[1;33m\u001b[0m\u001b[0m\n\u001b[0;32m    217\u001b[0m         \u001b[1;32mreturn\u001b[0m \u001b[1;32mNone\u001b[0m \u001b[1;32mif\u001b[0m \u001b[0mresponse\u001b[0m\u001b[1;33m.\u001b[0m\u001b[0mstatus_code\u001b[0m \u001b[1;33m==\u001b[0m \u001b[1;36m204\u001b[0m \u001b[1;32melse\u001b[0m \u001b[0mresponse\u001b[0m\u001b[1;33m.\u001b[0m\u001b[0mjson\u001b[0m\u001b[1;33m(\u001b[0m\u001b[1;33m)\u001b[0m\u001b[1;33m\u001b[0m\u001b[1;33m\u001b[0m\u001b[0m\n",
      "\u001b[1;31mEdelweissHttpError\u001b[0m: Edelweiss Error: \"User is unauthorized for this dataset\" for url http://localhost:8000/datasets/0c799fce-995d-4948-aae0-c701e23126db/versions/1"
     ]
    }
   ],
   "source": [
    "from edelweiss_data import API, QueryExpression as Q\n",
    "\n",
    "api = API('http://localhost:8000')\n",
    "api.authenticate()\n",
    "\n",
    "dataset = api.get_published_dataset('0c799fce-995d-4948-aae0-c701e23126db', version=1)\n",
    "data_frame = dataset.get_data(\n",
    "  condition = None,\n",
    "  aggregation_filters = {\"LabelSection\": [\"Withdrawn\"]},\n",
    "  order_by = None,\n",
    "  ascending = None,\n",
    ")"
   ]
  },
  {
   "cell_type": "code",
   "execution_count": null,
   "metadata": {},
   "outputs": [],
   "source": []
  }
 ],
 "metadata": {
  "kernelspec": {
   "display_name": "Python 3",
   "language": "python",
   "name": "python3"
  },
  "language_info": {
   "codemirror_mode": {
    "name": "ipython",
    "version": 3
   },
   "file_extension": ".py",
   "mimetype": "text/x-python",
   "name": "python",
   "nbconvert_exporter": "python",
   "pygments_lexer": "ipython3",
   "version": "3.7.4"
  }
 },
 "nbformat": 4,
 "nbformat_minor": 4
}
